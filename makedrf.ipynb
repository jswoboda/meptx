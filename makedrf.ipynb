{
 "cells": [
  {
   "cell_type": "markdown",
   "id": "26c2d424-4180-4e8c-9a36-684655c1803d",
   "metadata": {},
   "source": [
    "# Make An Example Digital RF Data Set\n",
    "\n",
    "This notebook will make a digital RF data set and different parts of the notebook can be subbed out. The other aspect of this is the notebook will save data to complex integers, which will be neccesary when feeding data to a transmitter. Generally codes will abstract out the conversion from one data type to the other."
   ]
  },
  {
   "cell_type": "code",
   "execution_count": 21,
   "id": "5a46e2f7-bb97-4b37-81f9-2cfae1828f16",
   "metadata": {},
   "outputs": [],
   "source": [
    "from pathlib import Path\n",
    "import numpy as np\n",
    "import shutil\n",
    "import time\n",
    "from fractions import Fraction\n",
    "import matplotlib.pyplot as plt\n",
    "import digital_rf as drf"
   ]
  },
  {
   "cell_type": "markdown",
   "id": "e6c6823d-4641-4af3-8840-0234360d9eb0",
   "metadata": {},
   "source": [
    "## Make Digital RF Writer Objects\n",
    "\n",
    "Generally when radios are receiving and writing data we have an object that writes the samples to a file. This function simply encapsulates this so it can be a one line call. Digital RF requires a fair amount of input to things set up. "
   ]
  },
  {
   "cell_type": "code",
   "execution_count": 22,
   "id": "e673aa12-d9f1-4b93-b263-ad4e7be8a60f",
   "metadata": {},
   "outputs": [],
   "source": [
    "def setupwriter(sr_num, sr_den, start_indx, maindir, is_complex, dtype, chaninfo,num_subchannels=1):\n",
    "    \"\"\"Sets up the digital_rf writer objects for each channel.\n",
    "\n",
    "    Parameters\n",
    "    ----------\n",
    "    sr_num : int\n",
    "        Numerator of the sample rate.\n",
    "    sr_den : int\n",
    "        Denomenator of the sample rate.\n",
    "    start_indx : int\n",
    "        Start time in sample rate * posix time.\n",
    "    maindir : Path\n",
    "        Location of the director where the data will be stored.\n",
    "    is_complex : bool\n",
    "        Complex data flag.\n",
    "    dtype : type\n",
    "        The number type that will be written.\n",
    "    chaninfo : list\n",
    "        List of names for the subchanels.\n",
    "    \n",
    "    Returns\n",
    "    -------\n",
    "    drf_out : DigitalRFWriter\n",
    "        Object for digital rf to write to file.\n",
    "    \"\"\"\n",
    "\n",
    "    idir = maindir.joinpath(\"txchan0\")\n",
    "    if idir.is_dir():\n",
    "        shutil.rmtree(str(idir))\n",
    "    idir.mkdir(parents=True, exist_ok=True)\n",
    "\n",
    "    sub_cadence_secs = 3600  # Number of seconds of data in a subdirectory\n",
    "    file_cadence_millisecs = 1000  # Each file will have up to 400 ms of data\n",
    "    compression_level = 0  # no compression\n",
    "    checksum = False  # no checksum\n",
    "\n",
    "    is_continuous = True\n",
    "    marching_periods = False  # no marching periods when writing\n",
    "\n",
    "    uuid = \"meptxdata\"\n",
    "\n",
    "    drf_out = drf.DigitalRFWriter(\n",
    "        str(idir),\n",
    "        dtype,\n",
    "        sub_cadence_secs,\n",
    "        file_cadence_millisecs,\n",
    "        start_indx,\n",
    "        sr_num,\n",
    "        sr_den,\n",
    "        uuid,\n",
    "        compression_level,\n",
    "        checksum,\n",
    "        is_complex,\n",
    "        num_subchannels,\n",
    "        is_continuous,\n",
    "        marching_periods,\n",
    "    )\n",
    "\n",
    "    # Create meta data\n",
    "    metadir = idir.joinpath(\"metadata\")\n",
    "\n",
    "    if metadir.is_dir():\n",
    "        shutil.rmtree(str(metadir))\n",
    "    metadir.mkdir(parents=True, exist_ok=True)\n",
    "\n",
    "    adc_obj = drf.DigitalMetadataWriter(\n",
    "        str(metadir),\n",
    "        sub_cadence_secs,\n",
    "        int(file_cadence_millisecs / 1000),\n",
    "        sr_num,\n",
    "        sr_den,\n",
    "        \"adc\",\n",
    "    )\n",
    "\n",
    "        \n",
    "    adc_obj.write(start_indx, chaninfo)\n",
    "    return drf_out, adc_obj"
   ]
  },
  {
   "cell_type": "markdown",
   "id": "f086e706-9499-4895-9527-b562c26aaa4b",
   "metadata": {},
   "source": []
  },
  {
   "cell_type": "code",
   "execution_count": 23,
   "id": "ae0487de-4cab-4c0c-a155-4429bdda9768",
   "metadata": {},
   "outputs": [],
   "source": [
    "def create_data(sr_num,sr_den,start_idx,n_len,c_f, phase0=1+0j,**kwargs):\n",
    "    \"\"\"Function to create data\n",
    "\n",
    "    Parameters\n",
    "    ----------\n",
    "\n",
    "    Returns\n",
    "    -------\n",
    "\n",
    "    \n",
    "    \"\"\"\n",
    "    data = np.ones(n_len,dtype=np.complex64)\n",
    "    n_vec = np.arange(n_len,dtype=np.float32)\n",
    "    sr= Fraction(sr_num,sr_den)\n",
    "    mod_v = np.exp(2j*np.pi*n_vec*c_f/float(sr))\n",
    "    \n",
    "    return data*mod_v*phase0"
   ]
  },
  {
   "cell_type": "code",
   "execution_count": 28,
   "id": "700826cb-58c4-4073-95d4-712dc5131283",
   "metadata": {},
   "outputs": [],
   "source": [
    "curfold = Path('.').absolute()\n",
    "\n",
    "main_dir= curfold.joinpath('example')\n",
    "dtype = np.dtype([('r', '<i2'), ('i', '<i2')])\n",
    "sr_num=1000000\n",
    "sr_den = 1\n",
    "cf = 100000.\n",
    "start_indx = drf.util.time_to_sample(time.time(),sr_num)\n",
    "is_complex=True\n",
    "\n",
    "chaninfo = {'sample_rate_denominator':sr_den, 'sample_rate_numerator':sr_num,'center_frequencies':np.array([cf,0])}\n",
    "drfwobj, _ = setupwriter(sr_num, sr_den, start_indx, main_dir, is_complex, dtype, chaninfo)\n",
    "\n"
   ]
  },
  {
   "cell_type": "code",
   "execution_count": 29,
   "id": "d360a868-b2ea-4748-a7b1-d9d9e57a0d8a",
   "metadata": {},
   "outputs": [],
   "source": [
    "n_secs = 120\n",
    "sr = Fraction(sr_num,sr_den)\n",
    "\n",
    "n_samples = int(n_secs*sr)\n",
    "\n",
    "n_write = 1000000\n",
    "mult_data = 32\n",
    "\n",
    "phase0=1+0j\n",
    "for st_samp in np.arange(0,n_samples,n_write):\n",
    "    out_data = create_data(sr_num,sr_den,start_indx+st_samp,n_write+1,cf, phase0)\n",
    "    phase0 = mult_data*out_data[-1]/np.abs(out_data[-1])\n",
    "    write_data = np.full(out_data[:-1].shape,0,dtype=dtype)\n",
    "    write_data[:]['r']= out_data[:-1].real.astype(np.int16)\n",
    "    write_data[:]['i']= out_data[:-1].imag.astype(np.int16)\n",
    "    drfwobj.rf_write(write_data)\n",
    "drfwobj.close()\n",
    "    "
   ]
  },
  {
   "cell_type": "code",
   "execution_count": 30,
   "id": "4edfdcfd-e341-418e-8418-bc78254f07ac",
   "metadata": {},
   "outputs": [
    {
     "name": "stdout",
     "output_type": "stream",
     "text": [
      "{'index': 1731088016633162, 'center_frequencies': array([100000.,      0.]), 'sample_rate_denominator': 1, 'sample_rate_numerator': 1000000}\n"
     ]
    }
   ],
   "source": [
    "drfObj = drf.DigitalRFReader(str(main_dir))\n",
    "chans = drfObj.get_channels()\n",
    "bnds = drfObj.get_bounds(chans[0])\n",
    "md = drfObj.get_digital_metadata(chans[0])\n",
    "print(md.read_flatdict())"
   ]
  },
  {
   "cell_type": "code",
   "execution_count": null,
   "id": "429614e5-93a1-4702-a56e-987d72aa7069",
   "metadata": {},
   "outputs": [],
   "source": []
  }
 ],
 "metadata": {
  "kernelspec": {
   "display_name": "Python 3 (ipykernel)",
   "language": "python",
   "name": "python3"
  },
  "language_info": {
   "codemirror_mode": {
    "name": "ipython",
    "version": 3
   },
   "file_extension": ".py",
   "mimetype": "text/x-python",
   "name": "python",
   "nbconvert_exporter": "python",
   "pygments_lexer": "ipython3",
   "version": "3.10.12"
  }
 },
 "nbformat": 4,
 "nbformat_minor": 5
}
